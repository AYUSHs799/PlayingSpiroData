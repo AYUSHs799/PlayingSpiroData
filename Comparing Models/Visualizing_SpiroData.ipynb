{
 "cells": [
  {
   "cell_type": "code",
   "execution_count": 1,
   "id": "0f913234",
   "metadata": {},
   "outputs": [],
   "source": [
    "from sklearn.metrics import mean_squared_error, mean_absolute_percentage_error,mean_absolute_error\n",
    "from sklearn.model_selection import LeaveOneOut, KFold , train_test_split \n",
    "from sklearn.ensemble import RandomForestRegressor\n",
    "from sklearn.linear_model import LinearRegression\n",
    "from sklearn.tree import DecisionTreeRegressor\n",
    "import matplotlib.pyplot as plt\n",
    "import pandas as pd\n",
    "import numpy as np\n",
    "import copy"
   ]
  },
  {
   "attachments": {},
   "cell_type": "markdown",
   "id": "64c5a3d2",
   "metadata": {},
   "source": [
    "### Performing Analysis for FEV1 Data"
   ]
  },
  {
   "cell_type": "code",
   "execution_count": 2,
   "id": "b914bf7b",
   "metadata": {},
   "outputs": [],
   "source": [
    "# Loading npy data.\n",
    "X = np.load(\"/VS dir/PlayingSpiroData/Spiro-Data/npy_file/FEV1_FEATURES_60.npy\")\n",
    "y = np.load(\"/VS dir/PlayingSpiroData/Spiro-Data/npy_file/FEV1_LABELS_60.npy\")\n",
    "\n",
    "# Removing erroreneous data\n",
    "\n",
    "X= pd.DataFrame(X).drop(index=[23,55,4,9,52,44,45,33,43,20,1,50])\n",
    "y= pd.DataFrame(y).drop(index=[23,55,4,9,52,44,45,33,43,20,1,50])"
   ]
  },
  {
   "attachments": {},
   "cell_type": "markdown",
   "id": "577b0808",
   "metadata": {},
   "source": [
    "### Initializing various Models"
   ]
  },
  {
   "cell_type": "code",
   "execution_count": 3,
   "id": "6494498a",
   "metadata": {},
   "outputs": [],
   "source": [
    "# Instantiating Random forrest Regressor.\n",
    "RF = RandomForestRegressor( n_jobs=-1, bootstrap=True, criterion='squared_error', \n",
    "                                  n_estimators=500,  max_features=1.0, max_depth=300,  \n",
    "                                  min_samples_leaf=1, min_samples_split=5 ,random_state=42)\n",
    "\n",
    "# Instantiating Decision Tree Regressor.\n",
    "DT = DecisionTreeRegressor( criterion='squared_error',min_samples_leaf=1, \n",
    "                                min_samples_split=5 ,random_state=42)\n",
    "\n",
    "# Instantiating Linear Regressor.\n",
    "LR = LinearRegression()\n",
    "\n",
    "# Estimator/Regressor Dictionary.\n",
    "RegDict = { \"Random_Forrest_Regression\" :   RF,\n",
    "            \"Decision_Tree_Regression\" :    DT,\n",
    "            \"Linear_Regression\":            LR }"
   ]
  },
  {
   "attachments": {},
   "cell_type": "markdown",
   "id": "f634aa52",
   "metadata": {},
   "source": [
    "### Trying Leave one out Cross Validation on Random Forest , Decision Tree and Linear regression."
   ]
  },
  {
   "cell_type": "code",
   "execution_count": 4,
   "id": "8af61c00",
   "metadata": {},
   "outputs": [
    {
     "name": "stdout",
     "output_type": "stream",
     "text": [
      "=-=-=-=-=-=-=-=-=-=-=-=-=-=-=-=-=-=-=-=-=-=-=-=-=-=-=-=-=-==-=-=-=-=\n",
      "For :  Random_Forrest_Regression\n",
      "Progress : 48/48\n",
      "\tMean Absolute Percentage Error :  6.224289571382801\n",
      "\tMean Aabsolute Error :  0.18603059223184218\n",
      "\tRoot Mean Square Error :  0.24610797310892654\n",
      "=-=-=-=-=-=-=-=-=-=-=-=-=-=-=-=-=-=-=-=-=-=-=-=-=-=-=-=-=-==-=-=-=-=\n",
      "For :  Decision_Tree_Regression\n",
      "Progress : 48/48\n",
      "\tMean Absolute Percentage Error :  7.893668767286284\n",
      "\tMean Aabsolute Error :  0.23354166666666662\n",
      "\tRoot Mean Square Error :  0.2958600829064431\n",
      "=-=-=-=-=-=-=-=-=-=-=-=-=-=-=-=-=-=-=-=-=-=-=-=-=-=-=-=-=-==-=-=-=-=\n",
      "For :  Linear_Regression\n",
      "Progress : 48/48\n",
      "\tMean Absolute Percentage Error :  92.62999490608946\n",
      "\tMean Aabsolute Error :  2.700326991817928\n",
      "\tRoot Mean Square Error :  4.839863018526574\n"
     ]
    }
   ],
   "source": [
    "tot = len(X)\n",
    "# Instantiating Leave_One_Out split function.\n",
    "loo = LeaveOneOut()\n",
    "\n",
    "# We run for every Regressor.\n",
    "for Reg in RegDict:\n",
    "\n",
    "    print(\"=-=-=-=-=-=-=-=-=-=-=-=-=-=-=-=-=-=-=-=-=-=-=-=-=-=-=-=-=-==-=-=-=-=\")\n",
    "    print(\"For : \",Reg)\n",
    "    Model = RegDict[Reg]\n",
    "    prog = 0\n",
    "    y_GT = []\n",
    "    y_PT = []\n",
    "    abserror=[]\n",
    "\n",
    "    # For every split obtained by Leave_One_Out split function.\n",
    "    for i,(train_index, test_index) in enumerate(loo.split(X)):\n",
    "\n",
    "        #m To show some sort of progress.\n",
    "        prog = prog + 1\n",
    "        print(\"Progress : {0}/{1}\".format(prog,tot),end = '\\r')\n",
    "\n",
    "        # Test-train split for the fold.\n",
    "        X_Train, X_Test = X.iloc[train_index],X.iloc[test_index]\n",
    "        y_Train, y_Test = y.iloc[train_index],y.iloc[test_index]\n",
    "        \n",
    "        Model.fit(X_Train, np.ravel(y_Train))\n",
    "        pred = Model.predict(X_Test)  \n",
    "\n",
    "        y_GT.append(y_Test.iloc[0,0])\n",
    "        y_PT.append(pred[0]) \n",
    " \n",
    "        abserror.append(np.abs( (y_Test.iloc[0,0] - pred[0])/ y_Test.iloc[0,0] ))\n",
    "\n",
    "    # Calculating Metrics\n",
    "    MAPE = 100 * np.mean(abserror)\n",
    "    # print(\"Calculated MAPE : \", MAPE )\n",
    "    # print(\"Calculated MAPE_func : \", MAPE_func(y_GT,y_PT))\n",
    "    print()\n",
    "    print(\"\\tMean Absolute Percentage Error : \" , 100 * mean_absolute_percentage_error(y_GT,y_PT))\n",
    "    print(\"\\tMean Aabsolute Error : \" , mean_absolute_error(y_GT,y_PT))\n",
    "    print(\"\\tRoot Mean Square Error : \" , mean_squared_error(y_GT,y_PT,squared=False))\n"
   ]
  },
  {
   "attachments": {},
   "cell_type": "markdown",
   "id": "a0f4c0e1",
   "metadata": {},
   "source": [
    "### Apparently Linear Regression is not doing very well ... lets try Kfold cross validation as well for Linear Regression."
   ]
  },
  {
   "cell_type": "code",
   "execution_count": 5,
   "id": "a00d3bab",
   "metadata": {},
   "outputs": [
    {
     "name": "stdout",
     "output_type": "stream",
     "text": [
      "=-=-=-=-=-=-=-=-=-=-=-=-=-=-=-=-=-=-=-=-=-=-=-=-=-=-=-=-=-==-=-=-=-=\n",
      "Linear regression for FEV1\n",
      "\n",
      "Metrics obtained\n",
      "\tMean Absolute Percentage Error : 101.59862754760356\n",
      "\tMean Absolute Error : 2.936759370443329\n",
      "\tRoot Mean Square Error : 5.331385041056183\n",
      "=-=-=-=-=-=-=-=-=-=-=-=-=-=-=-=-=-=-=-=-=-=-=-=-=-=-=-=-=-==-=-=-=-=\n",
      "\n",
      "Seems like Linear regression is not working for us ! \n"
     ]
    }
   ],
   "source": [
    "# Running Linear regression without Leave one out cross validation.\n",
    "\n",
    "#70:30 Train-Test Split\n",
    "# X_train,X_test,y_train,y_test = train_test_split(X,y,test_size=0.7)\n",
    "\n",
    "prog = 0\n",
    "rmseerror = 0\n",
    "aberror = 0\n",
    "meaerror = 0\n",
    "k=5\n",
    "\n",
    "LinearReg = LinearRegression()\n",
    "kfold = KFold(n_splits= k , shuffle= True,random_state=42)\n",
    "\n",
    "print(\"=-=-=-=-=-=-=-=-=-=-=-=-=-=-=-=-=-=-=-=-=-=-=-=-=-=-=-=-=-==-=-=-=-=\")\n",
    "print(\"Linear regression for FEV1\")\n",
    "\n",
    "for i, (train_index, test_index) in enumerate(kfold.split(X)):\n",
    "\n",
    "    X_Train, X_Test = X.iloc[train_index],X.iloc[test_index]\n",
    "    y_Train, y_Test = y.iloc[train_index],y.iloc[test_index]\n",
    "\n",
    "    LinearReg.fit(X_Train,y_Train)\n",
    "    y_hat = LinearReg.predict(X_Test)\n",
    "\n",
    "    # print(\"Fold : \",i)\n",
    "    # print(\"\\tR2 score : \", LinearReg.score(X_Train,y_Train))\n",
    "    # print(\"\\tRMSE obtained :\",mean_squared_error(y_Test,y_hat))\n",
    "    # print(\"\\tMAPE obtained :\",100 * mean_absolute_percentage_error(y_Test,y_hat))\n",
    "    # print(\"\\tMEA obtained :\",mean_absolute_error(y_Test,y_hat))\n",
    "    # print(\"=-=-=-=-=-=-=-=-=-=-=-=-=-=-=-=-=-=-=-=-=-=\")\n",
    "\n",
    "    rmseerror = rmseerror + mean_squared_error(y_Test,y_hat,squared=False)\n",
    "    aberror = aberror + 100 * mean_absolute_percentage_error(y_Test,y_hat) \n",
    "    meaerror = meaerror + mean_absolute_error(y_Test,y_hat)\n",
    "    \n",
    "\n",
    "print(\"\\nMetrics obtained\")\n",
    "print(\"\\tMean Absolute Percentage Error :\",aberror/k)\n",
    "print(\"\\tMean Absolute Error :\", meaerror/k)\n",
    "print(\"\\tRoot Mean Square Error :\",rmseerror/k)\n",
    "print(\"=-=-=-=-=-=-=-=-=-=-=-=-=-=-=-=-=-=-=-=-=-=-=-=-=-=-=-=-=-==-=-=-=-=\")\n",
    "print(\"\\nSeems like Linear regression is not working for us ! \")"
   ]
  },
  {
   "attachments": {},
   "cell_type": "markdown",
   "id": "a1b3e6b2",
   "metadata": {},
   "source": [
    "### Identifying Feature importance from our Models."
   ]
  },
  {
   "cell_type": "code",
   "execution_count": 12,
   "id": "49730f6a",
   "metadata": {},
   "outputs": [
    {
     "name": "stdout",
     "output_type": "stream",
     "text": [
      "Features that have Feature-Importance score greater than Zero :  [1, 9, 15, 21, 27, 34, 41, 57, 66, 77, 84, 88, 104, 120, 164]\n"
     ]
    }
   ],
   "source": [
    "# Gathering imortant features from the Random forest.\n",
    "Impfeature = pd.DataFrame(DT.feature_importances_)\n",
    "\n",
    "# Finding feature index whose Feature-Importance score is greater than Zero\n",
    "FeatureIndex = list(Impfeature[Impfeature[0]>0].index)\n",
    "FeatureIndex.sort()\n",
    "print(\"Features that have Feature-Importance score greater than Zero : \",FeatureIndex)"
   ]
  },
  {
   "cell_type": "code",
   "execution_count": 23,
   "id": "6e1306a3",
   "metadata": {},
   "outputs": [
    {
     "name": "stdout",
     "output_type": "stream",
     "text": [
      "            0\n",
      "1    0.377829\n",
      "164  0.131428\n",
      "120  0.126700\n",
      "34   0.114197\n",
      "15   0.110982\n",
      "84   0.046298\n",
      "57   0.039058\n",
      "104  0.013376\n",
      "77   0.012740\n",
      "66   0.010224\n",
      "9    0.005967\n",
      "41   0.004756\n",
      "88   0.004641\n",
      "21   0.001577\n",
      "27   0.000226\n",
      "[1, 164, 120, 34, 15, 84, 57, 104, 77, 66, 9, 41, 88, 21, 27]\n",
      "            0\n",
      "1    0.220957\n",
      "9    0.053311\n",
      "8    0.046442\n",
      "4    0.037748\n",
      "3    0.025344\n",
      "..        ...\n",
      "159  0.000254\n",
      "144  0.000214\n",
      "160  0.000163\n",
      "22   0.000116\n",
      "29   0.000060\n",
      "\n",
      "[166 rows x 1 columns]\n",
      "[1, 9, 8, 4, 3, 7, 52, 2, 165, 120, 15, 121, 66, 20, 5, 0, 6, 25, 21, 67, 19, 123, 119, 129, 139, 137, 73, 83, 18, 77, 80, 84, 11, 127, 10, 101, 56, 86, 78, 75, 122, 91, 135, 12, 81, 32, 41, 140, 158, 97, 124, 70, 88, 36, 85, 100, 93, 151, 30, 76, 14, 57, 96, 45, 164, 102, 26, 118, 58, 34, 44, 53, 141, 94, 59, 42, 114, 146, 90, 126, 132, 103, 142, 33, 95, 31, 147, 154, 60, 61, 69, 51, 125, 131, 156, 149, 23, 68, 27, 136, 99, 71, 105, 40, 24, 74, 54, 111, 128, 87, 92, 72, 13, 145, 38, 63, 55, 148, 98, 162, 115, 153, 117, 39, 37, 82, 155, 107, 161, 109, 89, 143, 133, 79, 104, 108, 130, 152, 47, 35, 150, 49, 106, 112, 43, 163, 46, 65, 16, 48, 28, 134, 64, 116, 157, 62, 50, 113, 138, 110, 17, 159, 144, 160, 22, 29]\n"
     ]
    }
   ],
   "source": [
    "DT_imp = pd.DataFrame(DT.feature_importances_)\n",
    "RF_imp = pd.DataFrame(RF.feature_importances_)\n",
    "\n",
    "DT_feature = list(DT_imp[DT_imp[0]>0].sort_values(by=0,ascending=False).index)\n",
    "print(DT_imp[DT_imp[0]>0].sort_values(by=0,ascending=False))\n",
    "print(DT_feature)\n",
    "\n",
    "RF_feature = list(RF_imp[RF_imp[0]>0].sort_values(by=0,ascending=False).index)\n",
    "print(RF_imp[RF_imp[0]>0].sort_values(by=0,ascending=False))\n",
    "print(RF_feature)\n"
   ]
  },
  {
   "cell_type": "markdown",
   "id": "1f8b23bd",
   "metadata": {},
   "source": [
    "### Lets try building Linear Regression Model using these features and lets see what happens ."
   ]
  },
  {
   "cell_type": "code",
   "execution_count": 11,
   "id": "f0345e11",
   "metadata": {},
   "outputs": [
    {
     "name": "stdout",
     "output_type": "stream",
     "text": [
      "=-=-=-=-=-=-=-=-=-=-=-=-=-=-=-=-=-=-=-=-=-=-=-=-=-=-=-=-=-==-=-=-=-=\n",
      "Linear regression for FEV1\n",
      "\n",
      "Linear Regression metrics with reduced feature set\n",
      "\tMean Absolute Percentage Error : 7.477817429728404\n",
      "\tMean Absolute Error : 0.22140710613087847\n",
      "\tRoot Mean Square Error : 0.22140710613087847\n",
      "=-=-=-=-=-=-=-=-=-=-=-=-=-=-=-=-=-=-=-=-=-=-=-=-=-=-=-=-=-==-=-=-=-=\n"
     ]
    }
   ],
   "source": [
    "# Running Linear regression without Leave one out cross validation.\n",
    "\n",
    "#70:30 Train-Test Split\n",
    "# X_train,X_test,y_train,y_test = train_test_split(X,y,test_size=0.7)\n",
    "\n",
    "X_new = X.iloc[:,FeatureIndex]\n",
    "y_new = y\n",
    "\n",
    "rmseerror = 0\n",
    "aberror = 0\n",
    "meaerror = 0\n",
    "\n",
    "k = len(X_new)\n",
    "LinearReg = LinearRegression()\n",
    "kfold = KFold(n_splits= k , shuffle= True , random_state=42)\n",
    "\n",
    "print(\"=-=-=-=-=-=-=-=-=-=-=-=-=-=-=-=-=-=-=-=-=-=-=-=-=-=-=-=-=-==-=-=-=-=\")\n",
    "print(\"Linear regression for FEV1\")\n",
    "\n",
    "for i, (train_index, test_index) in enumerate(kfold.split(X_new)):\n",
    "\n",
    "    X_Train, X_Test = X_new.iloc[train_index],X_new.iloc[test_index]\n",
    "    y_Train, y_Test = y_new.iloc[train_index],y_new.iloc[test_index]\n",
    "\n",
    "    LinearReg.fit(X_Train,y_Train)\n",
    "    y_hat = LinearReg.predict(X_Test)\n",
    "\n",
    "    # print(\"Fold : \",i)\n",
    "    # print(\"\\tR2 score : \", LinearReg.score(X_Train,y_Train))\n",
    "    # print(\"\\tRMSE obtained :\",mean_squared_error(y_Test,y_hat))\n",
    "    # print(\"\\tMAPE obtained :\",100 * mean_absolute_percentage_error(y_Test,y_hat))\n",
    "    # print(\"\\tMEA obtained :\",mean_absolute_error(y_Test,y_hat))\n",
    "\n",
    "    rmseerror = rmseerror + mean_squared_error(y_Test,y_hat,squared=False)\n",
    "    aberror = aberror + 100 * mean_absolute_percentage_error(y_Test,y_hat) \n",
    "    meaerror = meaerror + mean_absolute_error(y_Test,y_hat)\n",
    "\n",
    "print(\"\\nLinear Regression metrics with reduced feature set\")\n",
    "print(\"\\tMean Absolute Percentage Error :\",aberror/k)\n",
    "print(\"\\tMean Absolute Error :\", meaerror/k)\n",
    "print(\"\\tRoot Mean Square Error :\",rmseerror/k)\n",
    "print(\"=-=-=-=-=-=-=-=-=-=-=-=-=-=-=-=-=-=-=-=-=-=-=-=-=-=-=-=-=-==-=-=-=-=\")"
   ]
  },
  {
   "attachments": {},
   "cell_type": "markdown",
   "id": "2af8680e",
   "metadata": {},
   "source": [
    "### Lets try building Random forest using these features and lets see what happens ."
   ]
  },
  {
   "cell_type": "code",
   "execution_count": 12,
   "id": "88bd0052",
   "metadata": {},
   "outputs": [
    {
     "name": "stdout",
     "output_type": "stream",
     "text": [
      "=-=-=-=-=-=-=-=-=-=-=-=-=-=-=-=-=-=-=-=-=-=-=-=-=-=-=-=-=-==-=-=-=-=\n",
      "Random Forest Regressor for FEV1\n",
      "=-=-=-=-=-=-=-=-=-=-=-=-=-=-=-=-=-=-=-=-=-=\n",
      "Random forest metrics with reduced feature set\n",
      "\tMean Absolute Percentage Error :  5.752424753685239\n",
      "\tMean Aabsolute Error :  0.17195902161380264\n",
      "\tMean Square Error :  0.05039319005210293\n",
      "=-=-=-=-=-=-=-=-=-=-=-=-=-=-=-=-=-=-=-=-=-=\n"
     ]
    }
   ],
   "source": [
    "\n",
    "\n",
    "X_new = X.iloc[:,FeatureIndex]\n",
    "y_new = y\n",
    "\n",
    "RF_new = RandomForestRegressor( n_jobs=-1, bootstrap=True, criterion='squared_error', \n",
    "                                  n_estimators=500,  max_features=1.0, max_depth=100,  \n",
    "                                  min_samples_leaf=1, min_samples_split=5 ,random_state=42)\n",
    "\n",
    "# Total number of the splits\n",
    "tot = len(X_new)\n",
    "# Instantiating Leave_One_Out split function.\n",
    "loo = LeaveOneOut()\n",
    "\n",
    "prog = 0\n",
    "y_GT = []\n",
    "y_PT = []\n",
    "abserror=[]\n",
    "\n",
    "print(\"=-=-=-=-=-=-=-=-=-=-=-=-=-=-=-=-=-=-=-=-=-=-=-=-=-=-=-=-=-==-=-=-=-=\")\n",
    "print(\"Random Forest Regressor for FEV1\")\n",
    "\n",
    "# For every split obtained by Leave_One_Out split function.\n",
    "for i,(train_index, test_index) in enumerate(loo.split(X)):\n",
    "    \n",
    "    # To show some sort of progress.\n",
    "    prog = prog + 1\n",
    "    print(\"Progress : {0}/{1}\".format(prog,tot),end = '\\r')\n",
    "\n",
    "    # Test-train split for the fold.\n",
    "    X_Train, X_Test = X_new.iloc[train_index],X_new.iloc[test_index]\n",
    "    y_Train, y_Test = y_new.iloc[train_index],y_new.iloc[test_index]\n",
    "    \n",
    "    # Training new Random Forest ensemble.\n",
    "    RF_new.fit(X_Train, np.ravel(y_Train))\n",
    "    pred = RF_new.predict(X_Test)  \n",
    "\n",
    "    # Storing the values of Ground truth and Predicted value for future use.\n",
    "    y_GT.append(y_Test.iloc[0,0])\n",
    "    y_PT.append(pred[0]) \n",
    "\n",
    "    # Absolute percentage error\n",
    "    abserror.append(np.abs( (y_Test.iloc[0,0] - pred[0])/ y_Test.iloc[0,0] ))\n",
    "\n",
    "# Calculating Metrics\n",
    "MAPE = 100 * np.mean(abserror)\n",
    "# print(\"Calculated MAPE : \", MAPE )\n",
    "# print(\"Calculated MAPE_func : \", MAPE_func(y_GT,y_PT))\n",
    "\n",
    "print(\"=-=-=-=-=-=-=-=-=-=-=-=-=-=-=-=-=-=-=-=-=-=\")\n",
    "print(\"Random forest metrics with reduced feature set\")\n",
    "print(\"\\tMean Absolute Percentage Error : \" , 100 * mean_absolute_percentage_error(y_GT,y_PT))\n",
    "print(\"\\tMean Aabsolute Error : \" , mean_absolute_error(y_GT,y_PT))\n",
    "print(\"\\tMean Square Error : \" , mean_squared_error(y_GT,y_PT))\n",
    "print(\"=-=-=-=-=-=-=-=-=-=-=-=-=-=-=-=-=-=-=-=-=-=\")"
   ]
  },
  {
   "attachments": {},
   "cell_type": "markdown",
   "id": "de287c9a",
   "metadata": {},
   "source": [
    "### Plotting the MAPE values againsts the individuals"
   ]
  },
  {
   "cell_type": "code",
   "execution_count": 13,
   "id": "f765eb3d",
   "metadata": {},
   "outputs": [
    {
     "data": {
      "image/png": "[encoded data removed]",
      "text/plain": [
       "<Figure size 960x720 with 1 Axes>"
      ]
     },
     "metadata": {},
     "output_type": "display_data"
    }
   ],
   "source": [
    "# Acquiring the index of individuals.\n",
    "individuals = list(X.index)\n",
    "\n",
    "# Acquiring the threhold for top quartile.\n",
    "prc = copy.deepcopy(abserror)\n",
    "prc.sort()\n",
    "prc75 = prc[(len(prc)*3)//4]\n",
    "\n",
    "# Plotting the Data.\n",
    "plt.figure(dpi= 150)\n",
    "plt.bar(individuals,abserror,width=0.5)\n",
    "plt.plot(individuals,[MAPE/100]*48,color = 'black',linestyle='dashed',linewidth=0.75)\n",
    "plt.plot(individuals,[prc75]*48,color = 'red',linestyle='dashed',linewidth=0.75)\n",
    "plt.xlabel(\"individuals\")\n",
    "plt.ylabel(\"MAPE error\")\n",
    "plt.title(\"MAPE vs Individuals\")\n",
    "plt.legend([\"Mean MAPE value\",\"Top 75 %ile MAPE Value\",\"Individual's MAPE value\"])\n",
    "plt.show()\n"
   ]
  },
  {
   "attachments": {},
   "cell_type": "markdown",
   "id": "b183cf1e",
   "metadata": {},
   "source": [
    "### Making sense with the Demogragraphic Data"
   ]
  },
  {
   "cell_type": "code",
   "execution_count": 19,
   "id": "3eb7ca2c",
   "metadata": {},
   "outputs": [
    {
     "name": "stdout",
     "output_type": "stream",
     "text": [
      "gPEF        6.948125\n",
      "gFEV1       2.972917\n",
      "gFVC        3.217708\n",
      "Age        25.104167\n",
      "Height    168.745833\n",
      "Weight     64.708333\n",
      "dtype: float64\n"
     ]
    },
    {
     "name": "stderr",
     "output_type": "stream",
     "text": [
      "C:\\Users\\HP\\AppData\\Local\\Temp\\ipykernel_15308\\4225503757.py:8: FutureWarning: The default value of numeric_only in DataFrame.mean is deprecated. In a future version, it will default to False. In addition, specifying 'numeric_only=None' is deprecated. Select only valid columns or specify the value of numeric_only to silence this warning.\n",
      "  a = DemoData.mean()\n"
     ]
    }
   ],
   "source": [
    "# Reading Demographic Data .\n",
    "DemoData = pd.read_csv(\"/VS dir/PlayingSpiroData/Spiro-Data/csv_files/Demographic_Dataset.csv\").set_index('index')\n",
    "\n",
    "# Removing the erroreneous data.\n",
    "DemoData =  DemoData.drop(index=[23,55,4,9,52,44,45,33,43,20,1,50])\n",
    "\n",
    "# Getting a mean of the data.\n",
    "a = DemoData.mean()\n",
    "print(a)\n",
    "Meandata = dict(a)\n"
   ]
  },
  {
   "cell_type": "code",
   "execution_count": 20,
   "id": "d51e30d4",
   "metadata": {},
   "outputs": [
    {
     "name": "stdout",
     "output_type": "stream",
     "text": [
      "gPEF        7.032727\n",
      "gFEV1       3.133636\n",
      "gFVC        3.455455\n",
      "Age        23.454545\n",
      "Height    173.749091\n",
      "Weight     65.636364\n",
      "dtype: float64\n"
     ]
    },
    {
     "name": "stderr",
     "output_type": "stream",
     "text": [
      "C:\\Users\\HP\\AppData\\Local\\Temp\\ipykernel_15308\\828111311.py:5: FutureWarning: The default value of numeric_only in DataFrame.mean is deprecated. In a future version, it will default to False. In addition, specifying 'numeric_only=None' is deprecated. Select only valid columns or specify the value of numeric_only to silence this warning.\n",
      "  b = HighFEV1.mean()\n"
     ]
    }
   ],
   "source": [
    "# finding datapoints in the top quartile of the error\n",
    "HighFEV1 = DemoData[abserror>prc75]\n",
    "\n",
    "# Getting a mean of the data.\n",
    "b = HighFEV1.mean()\n",
    "print(b)\n",
    "Mean_HighFEV1 = dict(b)\n"
   ]
  },
  {
   "cell_type": "code",
   "execution_count": 21,
   "id": "3e8758e6",
   "metadata": {},
   "outputs": [
    {
     "name": "stdout",
     "output_type": "stream",
     "text": [
      "                 0           1      diff\n",
      "gPEF      6.948125    7.032727  0.084602\n",
      "gFEV1     2.972917    3.133636  0.160720\n",
      "gFVC      3.217708    3.455455  0.237746\n",
      "Age      25.104167   23.454545  1.649621\n",
      "Height  168.745833  173.749091  5.003258\n",
      "Weight   64.708333   65.636364  0.928030\n"
     ]
    }
   ],
   "source": [
    "# Putting together the  mean data \n",
    "observations = pd.DataFrame.from_dict(data=Meandata,orient='index')\n",
    "observations[1] = pd.DataFrame.from_dict(data=Mean_HighFEV1,orient='index')\n",
    "\n",
    "# absolute difference both the mean values\n",
    "observations['diff'] = abs(observations[1] - observations[0])\n",
    "print(observations)"
   ]
  },
  {
   "attachments": {},
   "cell_type": "markdown",
   "id": "257fe1ca",
   "metadata": {},
   "source": [
    "### It appears height is the most striking demographic feature in top quartile of MAPE error for FEV1"
   ]
  }
 ],
 "metadata": {
  "kernelspec": {
   "display_name": "Python 3",
   "language": "python",
   "name": "python3"
  },
  "language_info": {
   "codemirror_mode": {
    "name": "ipython",
    "version": 3
   },
   "file_extension": ".py",
   "mimetype": "text/x-python",
   "name": "python",
   "nbconvert_exporter": "python",
   "pygments_lexer": "ipython3",
   "version": "3.11.1"
  },
  "vscode": {
   "interpreter": {
    "hash": "1f6a27bcfbe46a917dbd192f4a82657396dda26148bae633192e8d28c70725f1"
   }
  }
 },
 "nbformat": 4,
 "nbformat_minor": 5
}
